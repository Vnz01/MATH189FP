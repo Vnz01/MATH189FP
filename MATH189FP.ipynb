{
 "cells": [
  {
   "cell_type": "code",
   "execution_count": 4,
   "id": "6deeb168-bd1e-4e8e-91b0-e2b4cc2652da",
   "metadata": {},
   "outputs": [],
   "source": [
    "# pip install nfl_data_py\n",
    "import nfl_data_py as nfl\n",
    "import pandas as pd"
   ]
  },
  {
   "cell_type": "markdown",
   "id": "92402e78-dded-42c8-91b6-3a6e5dc1922a",
   "metadata": {},
   "source": [
    "## Top NFL QB per year 2006-2023"
   ]
  },
  {
   "cell_type": "code",
   "execution_count": 40,
   "id": "7ff33e8e-dcd9-47a6-a694-b70d6d32d809",
   "metadata": {},
   "outputs": [
    {
     "name": "stdout",
     "output_type": "stream",
     "text": [
      "{2006: 'Peyton Manning', 2007: 'Tom Brady', 2008: 'Peyton Manning', 2009: 'Drew Brees', 2010: 'Tom Brady', 2011: 'Aaron Rodgers', 2012: 'Peyton Manning', 2013: 'Peyton Manning', 2014: 'Tony Romo', 2015: 'Carson Palmer', 2016: 'Matt Ryan', 2017: 'Carson Wentz', 2018: 'Patrick Mahomes', 2019: 'Lamar Jackson', 2020: 'Aaron Rodgers', 2021: 'Aaron Rodgers', 2022: 'Patrick Mahomes', 2023: 'Brock Purdy'}\n"
     ]
    }
   ],
   "source": [
    "import pandas as pd\n",
    "array = [2006,2007,2008,2009,2010,2011,2012,2013,2014,2015,2016,2017,2018,2019,2020,2021,2022,2023]\n",
    "highestQBR = {}\n",
    "for x in array:\n",
    "    df = nfl.import_qbr([x])\n",
    "    rank1 = df['rank'].idxmin()\n",
    "    name = df.loc[rank1, 'name_display']\n",
    "    highestQBR[x] = name\n",
    "\n",
    "# highestQBR is a dict with the year and rank 1 QB\n",
    "# incase this data is needed\n",
    "print(highestQBR)"
   ]
  },
  {
   "cell_type": "markdown",
   "id": "9de9a8fe-9926-4693-bcfd-40d08f37f4e4",
   "metadata": {},
   "source": [
    "## Top College QB Prospects 2006-2023"
   ]
  },
  {
   "cell_type": "code",
   "execution_count": null,
   "id": "e635763d-3e94-4dcc-a052-eb32721324a2",
   "metadata": {},
   "outputs": [],
   "source": []
  },
  {
   "cell_type": "markdown",
   "id": "3e22218f-6eb6-4258-ae89-c21438f43fba",
   "metadata": {},
   "source": [
    "## Hypothesis Test?"
   ]
  },
  {
   "cell_type": "markdown",
   "id": "c2087daa-2cb9-4228-aab5-9a0ee7c1543d",
   "metadata": {},
   "source": [
    "| Anatomy of the hypothesis test |  Answer  |\n",
    "|:------------------------------:|:--------:|\n",
    "| Assumption                     | ... |\n",
    "| Null hypothesis                | ... |\n",
    "| Alternate hypothesis           | ... |\n",
    "| Test statistic                 | ... |\n",
    "| Rejection region shape         | ... |"
   ]
  }
 ],
 "metadata": {
  "kernelspec": {
   "display_name": "Python 3 (ipykernel)",
   "language": "python",
   "name": "python3"
  },
  "language_info": {
   "codemirror_mode": {
    "name": "ipython",
    "version": 3
   },
   "file_extension": ".py",
   "mimetype": "text/x-python",
   "name": "python",
   "nbconvert_exporter": "python",
   "pygments_lexer": "ipython3",
   "version": "3.11.7"
  }
 },
 "nbformat": 4,
 "nbformat_minor": 5
}
