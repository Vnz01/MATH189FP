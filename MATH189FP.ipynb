{
 "cells": [
  {
   "cell_type": "markdown",
   "id": "af3a0760-4fa6-44f5-b286-9379306f4b73",
   "metadata": {},
   "source": [
    "# MATH 189 Final Project"
   ]
  },
  {
   "cell_type": "markdown",
   "id": "8c188b99-ce8c-4a81-a854-2c925ee34818",
   "metadata": {},
   "source": [
    "by: Pranav Damal, Lucien Chen, Venz Burgos"
   ]
  },
  {
   "cell_type": "markdown",
   "id": "9b1b53c6-e65c-4c7d-9bad-b3d5554840e8",
   "metadata": {},
   "source": [
    "## Objective: ..."
   ]
  },
  {
   "cell_type": "markdown",
   "id": "832f47d2-ceaf-4118-ae19-90b0848778a2",
   "metadata": {},
   "source": [
    "## Thesis: ..."
   ]
  },
  {
   "cell_type": "code",
   "execution_count": 4,
   "id": "6deeb168-bd1e-4e8e-91b0-e2b4cc2652da",
   "metadata": {},
   "outputs": [],
   "source": [
    "# pip install nfl_data_py\n",
    "import nfl_data_py as nfl\n",
    "import pandas as pd"
   ]
  },
  {
   "cell_type": "markdown",
   "id": "92402e78-dded-42c8-91b6-3a6e5dc1922a",
   "metadata": {},
   "source": [
    "## Top NFL QB per year 2006-2023"
   ]
  },
  {
   "cell_type": "code",
   "execution_count": 41,
   "id": "7ff33e8e-dcd9-47a6-a694-b70d6d32d809",
   "metadata": {},
   "outputs": [
    {
     "name": "stdout",
     "output_type": "stream",
     "text": [
      "{2006: 'Peyton Manning', 2007: 'Tom Brady', 2008: 'Peyton Manning', 2009: 'Drew Brees', 2010: 'Tom Brady', 2011: 'Aaron Rodgers', 2012: 'Peyton Manning', 2013: 'Peyton Manning', 2014: 'Tony Romo', 2015: 'Carson Palmer', 2016: 'Matt Ryan', 2017: 'Carson Wentz', 2018: 'Patrick Mahomes', 2019: 'Lamar Jackson', 2020: 'Aaron Rodgers', 2021: 'Aaron Rodgers', 2022: 'Patrick Mahomes', 2023: 'Brock Purdy'}\n"
     ]
    }
   ],
   "source": [
    "import pandas as pd\n",
    "year = [2006,2007,2008,2009,2010,2011,2012,2013,2014,2015,2016,2017,2018,2019,2020,2021,2022,2023]\n",
    "highestQBR = {}\n",
    "for x in year:\n",
    "    df = nfl.import_qbr([x])\n",
    "    rank1 = df['rank'].idxmin()\n",
    "    name = df.loc[rank1, 'name_display']\n",
    "    highestQBR[x] = name\n",
    "\n",
    "# highestQBR is a dict with the year and rank 1 QB\n",
    "# incase this data is needed\n",
    "print(highestQBR)"
   ]
  },
  {
   "cell_type": "markdown",
   "id": "9de9a8fe-9926-4693-bcfd-40d08f37f4e4",
   "metadata": {},
   "source": [
    "## Top College QB Prospects 2006-2023"
   ]
  },
  {
   "cell_type": "code",
   "execution_count": 62,
   "id": "e635763d-3e94-4dcc-a052-eb32721324a2",
   "metadata": {},
   "outputs": [
    {
     "name": "stdout",
     "output_type": "stream",
     "text": [
      "first round QBs in 2010: ['Sam Bradford', 'Tim Tebow']\n",
      "first round QBs in 2011: ['Cam Newton', 'Jake Locker', 'Blaine Gabbert', 'Christian Ponder']\n",
      "first round QBs in 2012: ['Andrew Luck', 'Robert Griffin III', 'Ryan Tannehill', 'Brandon Weeden']\n",
      "first round QBs in 2013: ['EJ Manuel']\n",
      "first round QBs in 2014: ['Blake Bortles', 'Johnny Manziel', 'Teddy Bridgewater']\n",
      "first round QBs in 2015: ['Jameis Winston', 'Marcus Mariota']\n",
      "first round QBs in 2016: ['Jared Goff', 'Carson Wentz', 'Paxton Lynch']\n",
      "first round QBs in 2017: ['Mitchell Trubisky', 'Patrick Mahomes', 'Deshaun Watson']\n",
      "first round QBs in 2018: ['Baker Mayfield', 'Sam Darnold', 'Josh Allen', 'Josh Rosen', 'Lamar Jackson']\n",
      "first round QBs in 2019: ['Kyler Murray', 'Daniel Jones', 'Dwayne Haskins']\n",
      "first round QBs in 2020: ['Joe Burrow', 'Tua Tagovailoa', 'Justin Herbert', 'Jordan Love']\n",
      "first round QBs in 2021: ['Trevor Lawrence', 'Zach Wilson', 'Trey Lance', 'Justin Fields', 'Mac Jones']\n",
      "first round QBs in 2022: ['Kenny Pickett']\n",
      "first round QBs in 2023: ['Bryce Young', 'C.J. Stroud', 'Anthony Richardson']\n"
     ]
    }
   ],
   "source": [
    "top_qb_prospects = {}\n",
    "\n",
    "for year in range(2010, 2024):\n",
    "    draft = nfl.import_draft_picks([year])\n",
    "    firstQBs = draft[(draft['position'] == 'QB') & (draft['round'] == 1)]\n",
    "    qbList = firstQBs['pfr_player_name'].tolist()\n",
    "    top_qb_prospects[year] = qbList\n",
    "\n",
    "for year, prospects in top_qb_prospects.items():\n",
    "    print(f\"first round QBs in {year}: {prospects}\")"
   ]
  },
  {
   "cell_type": "markdown",
   "id": "3e22218f-6eb6-4258-ae89-c21438f43fba",
   "metadata": {},
   "source": [
    "## Hypothesis Test?"
   ]
  },
  {
   "cell_type": "markdown",
   "id": "c2087daa-2cb9-4228-aab5-9a0ee7c1543d",
   "metadata": {},
   "source": [
    "| Anatomy of the hypothesis test |  Answer  |\n",
    "|:------------------------------:|:--------:|\n",
    "| Assumption                     | ... |\n",
    "| Null hypothesis                | ... |\n",
    "| Alternate hypothesis           | ... |\n",
    "| Test statistic                 | ... |\n",
    "| Rejection region shape         | ... |"
   ]
  }
 ],
 "metadata": {
  "kernelspec": {
   "display_name": "Python 3 (ipykernel)",
   "language": "python",
   "name": "python3"
  },
  "language_info": {
   "codemirror_mode": {
    "name": "ipython",
    "version": 3
   },
   "file_extension": ".py",
   "mimetype": "text/x-python",
   "name": "python",
   "nbconvert_exporter": "python",
   "pygments_lexer": "ipython3",
   "version": "3.11.7"
  }
 },
 "nbformat": 4,
 "nbformat_minor": 5
}
